{
 "cells": [
  {
   "cell_type": "code",
   "execution_count": 5,
   "metadata": {},
   "outputs": [],
   "source": [
    "# Load Yeast Protein Protein Interaction dataset\n",
    "# - Exists as edge list\n",
    "import numpy as np\n",
    "import random\n",
    "\n",
    "def load_edge_list(path, num_edges=2500):\n",
    "    edge_list = open(path, 'r')\n",
    "    edge_list = edge_list.readlines()\n",
    "    edges = []\n",
    "    nodes = []\n",
    "    edge_list = random.sample(edge_list, num_edges)\n",
    "    for edge in edge_list:\n",
    "        edge = edge.replace(\"\\n\", \"\")\n",
    "        edge_vals = edge.split(\"\\t\")\n",
    "        edges.append((edge_vals[0], edge_vals[1]))\n",
    "        nodes.append(edge_vals[0])\n",
    "        nodes.append(edge_vals[1])\n",
    "    \n",
    "    nodes = list(set(nodes)) # Remove redundant values -> set object to list object\n",
    "    return edges, nodes"
   ]
  },
  {
   "cell_type": "code",
   "execution_count": 2,
   "metadata": {},
   "outputs": [
    {
     "name": "stdout",
     "output_type": "stream",
     "text": [
      "Number of edges : 2500\n",
      "Protein ID    YDL101C is connected with Protein ID    YJL092W in the Yeast PPI Graph.\n",
      "Protein ID    YCL068C is connected with Protein ID    YDR188W in the Yeast PPI Graph.\n",
      "Protein ID    YNL277W is connected with Protein ID    YFR028C in the Yeast PPI Graph.\n",
      "Protein ID    YGL079W is connected with Protein ID    YDR077W in the Yeast PPI Graph.\n",
      "Protein ID    YGR162W is connected with Protein ID    YGL030W in the Yeast PPI Graph.\n",
      "Protein ID    YLL024C is connected with Protein ID    YMR238W in the Yeast PPI Graph.\n",
      "Protein ID    YBR158W is connected with Protein ID    YGL168W in the Yeast PPI Graph.\n",
      "Protein ID    YDR146C is connected with Protein ID    YCR003W in the Yeast PPI Graph.\n",
      "Protein ID    YGL145W is connected with Protein ID  YBR058C-A in the Yeast PPI Graph.\n",
      "Protein ID    YBL105C is connected with Protein ID    YJL115W in the Yeast PPI Graph.\n",
      "Protein ID    YGR062C is connected with Protein ID    YBR109C in the Yeast PPI Graph.\n"
     ]
    }
   ],
   "source": [
    "edge_path = \"yeast.reduced.edgelist\"\n",
    "edge_list, node_list = load_edge_list(edge_path)\n",
    "\n",
    "# For annotation..\n",
    "print(\"Number of edges : {}\".format(len(edge_list)))\n",
    "for i, edge in enumerate(edge_list):\n",
    "    if i > 10: break\n",
    "    print(\"Protein ID {:>10} is connected with Protein ID {:>10} in the Yeast PPI Graph.\".format(edge[0],edge[1]))"
   ]
  },
  {
   "cell_type": "code",
   "execution_count": 3,
   "metadata": {},
   "outputs": [
    {
     "name": "stdout",
     "output_type": "stream",
     "text": [
      "Graph's Nodes : 2672 / Edges : 2500\n"
     ]
    }
   ],
   "source": [
    "# How to visualize the target PPI Graph?\n",
    "# - Use NetworkX (Python Lib)\n",
    "# - documents : https://networkx.github.io/documentation/stable/\n",
    "import networkx as nx\n",
    "\n",
    "# Make networkx graph object directly from edge list\n",
    "raw_edge_list = open(edge_path, \"r\")\n",
    "G = nx.Graph()\n",
    "G = nx.parse_edgelist(raw_edge_list, delimiter='\\t', create_using=G,nodetype=str, data=(('weight', float),))\n",
    "\n",
    "# Or add edges and nodes from lists to networkx graph object\n",
    "G = nx.Graph()\n",
    "G.add_nodes_from(node_list)\n",
    "G.add_edges_from(edge_list)\n",
    "\n",
    "# Get graph edges and nodes from networkx graph object\n",
    "nodes = G.nodes\n",
    "edges = G.edges\n",
    "\n",
    "print(\"Graph's Nodes : {} / Edges : {}\".format(len(nodes), len(edges)))"
   ]
  },
  {
   "cell_type": "code",
   "execution_count": 4,
   "metadata": {},
   "outputs": [
    {
     "ename": "ImportError",
     "evalue": "requires pygraphviz http://pygraphviz.github.io/",
     "output_type": "error",
     "traceback": [
      "\u001b[1;31m---------------------------------------------------------------------------\u001b[0m",
      "\u001b[1;31mModuleNotFoundError\u001b[0m                       Traceback (most recent call last)",
      "File \u001b[1;32m~\\AppData\\Local\\Programs\\Python\\Python310\\lib\\site-packages\\networkx\\drawing\\nx_agraph.py:295\u001b[0m, in \u001b[0;36mpygraphviz_layout\u001b[1;34m(G, prog, root, args)\u001b[0m\n\u001b[0;32m    294\u001b[0m \u001b[38;5;28;01mtry\u001b[39;00m:\n\u001b[1;32m--> 295\u001b[0m     \u001b[38;5;28;01mimport\u001b[39;00m \u001b[38;5;21;01mpygraphviz\u001b[39;00m\n\u001b[0;32m    296\u001b[0m \u001b[38;5;28;01mexcept\u001b[39;00m \u001b[38;5;167;01mImportError\u001b[39;00m \u001b[38;5;28;01mas\u001b[39;00m err:\n",
      "\u001b[1;31mModuleNotFoundError\u001b[0m: No module named 'pygraphviz'",
      "\nThe above exception was the direct cause of the following exception:\n",
      "\u001b[1;31mImportError\u001b[0m                               Traceback (most recent call last)",
      "Cell \u001b[1;32mIn [4], line 18\u001b[0m\n\u001b[0;32m     15\u001b[0m protein_node_color \u001b[38;5;241m=\u001b[39m \u001b[38;5;124m\"\u001b[39m\u001b[38;5;124m#F08080\u001b[39m\u001b[38;5;124m\"\u001b[39m\n\u001b[0;32m     16\u001b[0m rna_node_color \u001b[38;5;241m=\u001b[39m \u001b[38;5;124m\"\u001b[39m\u001b[38;5;124m#1E90FF\u001b[39m\u001b[38;5;124m\"\u001b[39m\n\u001b[1;32m---> 18\u001b[0m pos \u001b[38;5;241m=\u001b[39m \u001b[43mnx\u001b[49m\u001b[38;5;241;43m.\u001b[39;49m\u001b[43mdrawing\u001b[49m\u001b[38;5;241;43m.\u001b[39;49m\u001b[43mnx_agraph\u001b[49m\u001b[38;5;241;43m.\u001b[39;49m\u001b[43mgraphviz_layout\u001b[49m\u001b[43m(\u001b[49m\u001b[43mG\u001b[49m\u001b[43m)\u001b[49m\n\u001b[0;32m     19\u001b[0m nx\u001b[38;5;241m.\u001b[39mdraw_networkx_nodes(G, pos, node_size\u001b[38;5;241m=\u001b[39mnode_size, node_color\u001b[38;5;241m=\u001b[39mrna_node_color, alpha\u001b[38;5;241m=\u001b[39mnode_alpha)\n\u001b[0;32m     20\u001b[0m nx\u001b[38;5;241m.\u001b[39mdraw_networkx_edges(G, pos, width\u001b[38;5;241m=\u001b[39medge_width, alpha\u001b[38;5;241m=\u001b[39medge_alpha)\n",
      "File \u001b[1;32m~\\AppData\\Local\\Programs\\Python\\Python310\\lib\\site-packages\\networkx\\drawing\\nx_agraph.py:251\u001b[0m, in \u001b[0;36mgraphviz_layout\u001b[1;34m(G, prog, root, args)\u001b[0m\n\u001b[0;32m    220\u001b[0m \u001b[38;5;28;01mdef\u001b[39;00m \u001b[38;5;21mgraphviz_layout\u001b[39m(G, prog\u001b[38;5;241m=\u001b[39m\u001b[38;5;124m\"\u001b[39m\u001b[38;5;124mneato\u001b[39m\u001b[38;5;124m\"\u001b[39m, root\u001b[38;5;241m=\u001b[39m\u001b[38;5;28;01mNone\u001b[39;00m, args\u001b[38;5;241m=\u001b[39m\u001b[38;5;124m\"\u001b[39m\u001b[38;5;124m\"\u001b[39m):\n\u001b[0;32m    221\u001b[0m     \u001b[38;5;124;03m\"\"\"Create node positions for G using Graphviz.\u001b[39;00m\n\u001b[0;32m    222\u001b[0m \n\u001b[0;32m    223\u001b[0m \u001b[38;5;124;03m    Parameters\u001b[39;00m\n\u001b[1;32m   (...)\u001b[0m\n\u001b[0;32m    249\u001b[0m \u001b[38;5;124;03m    see https://gitlab.com/graphviz/graphviz/-/issues/1767 for more info.\u001b[39;00m\n\u001b[0;32m    250\u001b[0m \u001b[38;5;124;03m    \"\"\"\u001b[39;00m\n\u001b[1;32m--> 251\u001b[0m     \u001b[38;5;28;01mreturn\u001b[39;00m \u001b[43mpygraphviz_layout\u001b[49m\u001b[43m(\u001b[49m\u001b[43mG\u001b[49m\u001b[43m,\u001b[49m\u001b[43m \u001b[49m\u001b[43mprog\u001b[49m\u001b[38;5;241;43m=\u001b[39;49m\u001b[43mprog\u001b[49m\u001b[43m,\u001b[49m\u001b[43m \u001b[49m\u001b[43mroot\u001b[49m\u001b[38;5;241;43m=\u001b[39;49m\u001b[43mroot\u001b[49m\u001b[43m,\u001b[49m\u001b[43m \u001b[49m\u001b[43margs\u001b[49m\u001b[38;5;241;43m=\u001b[39;49m\u001b[43margs\u001b[49m\u001b[43m)\u001b[49m\n",
      "File \u001b[1;32m~\\AppData\\Local\\Programs\\Python\\Python310\\lib\\site-packages\\networkx\\drawing\\nx_agraph.py:297\u001b[0m, in \u001b[0;36mpygraphviz_layout\u001b[1;34m(G, prog, root, args)\u001b[0m\n\u001b[0;32m    295\u001b[0m     \u001b[38;5;28;01mimport\u001b[39;00m \u001b[38;5;21;01mpygraphviz\u001b[39;00m\n\u001b[0;32m    296\u001b[0m \u001b[38;5;28;01mexcept\u001b[39;00m \u001b[38;5;167;01mImportError\u001b[39;00m \u001b[38;5;28;01mas\u001b[39;00m err:\n\u001b[1;32m--> 297\u001b[0m     \u001b[38;5;28;01mraise\u001b[39;00m \u001b[38;5;167;01mImportError\u001b[39;00m(\n\u001b[0;32m    298\u001b[0m         \u001b[38;5;124m\"\u001b[39m\u001b[38;5;124mrequires pygraphviz \u001b[39m\u001b[38;5;124m\"\u001b[39m \u001b[38;5;124m\"\u001b[39m\u001b[38;5;124mhttp://pygraphviz.github.io/\u001b[39m\u001b[38;5;124m\"\u001b[39m\n\u001b[0;32m    299\u001b[0m     ) \u001b[38;5;28;01mfrom\u001b[39;00m \u001b[38;5;21;01merr\u001b[39;00m\n\u001b[0;32m    300\u001b[0m \u001b[38;5;28;01mif\u001b[39;00m root \u001b[38;5;129;01mis\u001b[39;00m \u001b[38;5;129;01mnot\u001b[39;00m \u001b[38;5;28;01mNone\u001b[39;00m:\n\u001b[0;32m    301\u001b[0m     args \u001b[38;5;241m+\u001b[39m\u001b[38;5;241m=\u001b[39m \u001b[38;5;124mf\u001b[39m\u001b[38;5;124m\"\u001b[39m\u001b[38;5;124m-Groot=\u001b[39m\u001b[38;5;132;01m{\u001b[39;00mroot\u001b[38;5;132;01m}\u001b[39;00m\u001b[38;5;124m\"\u001b[39m\n",
      "\u001b[1;31mImportError\u001b[0m: requires pygraphviz http://pygraphviz.github.io/"
     ]
    },
    {
     "data": {
      "text/plain": [
       "<Figure size 2000x2000 with 0 Axes>"
      ]
     },
     "metadata": {},
     "output_type": "display_data"
    }
   ],
   "source": [
    "# How to Visualize Graph?\n",
    "import numpy as np\n",
    "import matplotlib.pyplot as plt\n",
    "\n",
    "title = \"Yeast-PPI-Network-Full-Dataset\"\n",
    "plt.figure(figsize=(20,20))\n",
    "node_size = 15\n",
    "node_alpha = .6\n",
    "\n",
    "edge_color = '#483D8B'\n",
    "edge_alpha = 0.15\n",
    "edge_style = 'dashed'\n",
    "edge_width = 2\n",
    "\n",
    "protein_node_color = \"#F08080\"\n",
    "rna_node_color = \"#1E90FF\"\n",
    "\n",
    "pos = nx.drawing.nx_agraph.graphviz_layout(G)\n",
    "nx.draw_networkx_nodes(G, pos, node_size=node_size, node_color=rna_node_color, alpha=node_alpha)\n",
    "nx.draw_networkx_edges(G, pos, width=edge_width, alpha=edge_alpha)\n",
    "plt.axis('off')\n",
    "plt.savefig(\"{}.png\".format(title))\n",
    "plt.title(\"{} / Blue - Protein\".format(title))\n",
    "plt.show()"
   ]
  },
  {
   "cell_type": "code",
   "execution_count": null,
   "metadata": {},
   "outputs": [],
   "source": [
    "def example_visualize_sampled_yeast_ppi_network(sample_edges=500):\n",
    "    # Load Sampled Graph dataset\n",
    "    edge_path = \"yeast.reduced.edgelist\"\n",
    "    edge_list, node_list = load_edge_list(edge_path, num_edges=sample_edges)\n",
    "    G = nx.Graph()\n",
    "    G.add_nodes_from(node_list)\n",
    "    G.add_edges_from(edge_list)\n",
    "    \n",
    "    # Visualize\n",
    "    title = \"Yeast-PPI-Network-E{}-N{}\".format(len(G.edges), len(G.nodes))\n",
    "    plt.figure(figsize=(10,10))\n",
    "    node_size = 9\n",
    "    node_alpha = .6\n",
    "\n",
    "    edge_color = '#483D8B'\n",
    "    edge_alpha = 0.15\n",
    "    edge_style = 'dashed'\n",
    "    edge_width = 2\n",
    "\n",
    "    protein_node_color = \"#F08080\"\n",
    "    rna_node_color = \"#1E90FF\"\n",
    "\n",
    "    pos = nx.drawing.nx_agraph.graphviz_layout(G)\n",
    "    nx.draw_networkx_nodes(G, pos, node_size=node_size, node_color=rna_node_color, alpha=node_alpha)\n",
    "    nx.draw_networkx_edges(G, pos, width=edge_width, alpha=edge_alpha)\n",
    "    plt.axis('off')\n",
    "    plt.savefig(\"imgs/{}.png\".format(title))\n",
    "    plt.title(\"{} / Blue - Protein\".format(title))\n",
    "    plt.show()\n",
    "    \n",
    "for i in range(100, 2000, 100):\n",
    "    example_visualize_sampled_yeast_ppi_network(sample_edges=i)"
   ]
  },
  {
   "cell_type": "code",
   "execution_count": null,
   "metadata": {},
   "outputs": [],
   "source": []
  },
  {
   "cell_type": "code",
   "execution_count": null,
   "metadata": {},
   "outputs": [],
   "source": []
  },
  {
   "cell_type": "code",
   "execution_count": null,
   "metadata": {},
   "outputs": [],
   "source": []
  },
  {
   "cell_type": "code",
   "execution_count": null,
   "metadata": {},
   "outputs": [],
   "source": []
  }
 ],
 "metadata": {
  "kernelspec": {
   "display_name": "Python 3 (ipykernel)",
   "language": "python",
   "name": "python3"
  },
  "language_info": {
   "codemirror_mode": {
    "name": "ipython",
    "version": 3
   },
   "file_extension": ".py",
   "mimetype": "text/x-python",
   "name": "python",
   "nbconvert_exporter": "python",
   "pygments_lexer": "ipython3",
   "version": "3.10.6"
  },
  "vscode": {
   "interpreter": {
    "hash": "16dbc6485642327c9b427fc45205b83b91e3a4e2425cfc504ecbe4fec7c44665"
   }
  }
 },
 "nbformat": 4,
 "nbformat_minor": 2
}
